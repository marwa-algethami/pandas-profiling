{
 "cells": [
  {
   "cell_type": "markdown",
   "metadata": {},
   "source": [
    "# Using Predictive Analysis To Predict Diagnosis of a Breast "
   ]
  },
  {
   "cell_type": "markdown",
   "metadata": {},
   "source": [
    "1.2 Objective\n",
    "Since the labels in the data are discrete, the predication falls into two categories, (i.e. Malignant or benign). In machine learning this is a classification problem.\n",
    "\n",
    "Thus, the goal is to classify whether the breast cancer is benign or malignant and predict the recurrence and non-recurrence of malignant cases after a certain period. To achieve this we have used machine learning classification methods to fit a function that can predict the discrete class of new input."
   ]
  },
  {
   "cell_type": "markdown",
   "metadata": {},
   "source": [
    "Identify data sources\n",
    "The Breast Cancer datasets is available machine learning repository maintained by the University of California, Irvine. The dataset contains 569 samples of malignant and benign tumor cells.\n",
    "\n",
    "The first two columns in the dataset store the unique ID numbers of the samples and the corresponding diagnosis (M=malignant, B=benign), respectively.\n",
    "The columns 3-32 contain 30 real-value features that have been computed from digitized images of the cell nuclei, which can be used to build a model to predict whether a tumor is benign or malignant."
   ]
  },
  {
   "cell_type": "code",
   "execution_count": 2,
   "metadata": {},
   "outputs": [
    {
     "data": {
      "text/html": [
       "<div>\n",
       "<style scoped>\n",
       "    .dataframe tbody tr th:only-of-type {\n",
       "        vertical-align: middle;\n",
       "    }\n",
       "\n",
       "    .dataframe tbody tr th {\n",
       "        vertical-align: top;\n",
       "    }\n",
       "\n",
       "    .dataframe thead th {\n",
       "        text-align: right;\n",
       "    }\n",
       "</style>\n",
       "<table border=\"1\" class=\"dataframe\">\n",
       "  <thead>\n",
       "    <tr style=\"text-align: right;\">\n",
       "      <th></th>\n",
       "      <th>%id</th>\n",
       "      <th>diagnosis (M=malignant; B=benign)</th>\n",
       "      <th>radius (nucA)</th>\n",
       "      <th>texture (nucA)</th>\n",
       "      <th>perimeter (nucA)</th>\n",
       "      <th>area (nucA)</th>\n",
       "      <th>smoothness (nucA)</th>\n",
       "      <th>compactness (nucA)</th>\n",
       "      <th>concavity (nucA)</th>\n",
       "      <th>concave points (nucA)</th>\n",
       "      <th>...</th>\n",
       "      <th>radius (nucC)</th>\n",
       "      <th>texture (nucC)</th>\n",
       "      <th>perimeter (nucC)</th>\n",
       "      <th>area (nucC)</th>\n",
       "      <th>smoothness (nucC)</th>\n",
       "      <th>compactness (nucC)</th>\n",
       "      <th>concavity (nucC)</th>\n",
       "      <th>concave points (nucC)</th>\n",
       "      <th>symmetry (nucC)</th>\n",
       "      <th>fractal dimension (nucC)</th>\n",
       "    </tr>\n",
       "  </thead>\n",
       "  <tbody>\n",
       "    <tr>\n",
       "      <th>0</th>\n",
       "      <td>842302</td>\n",
       "      <td>M</td>\n",
       "      <td>17.99</td>\n",
       "      <td>10.38</td>\n",
       "      <td>122.80</td>\n",
       "      <td>1001.0</td>\n",
       "      <td>0.11840</td>\n",
       "      <td>0.27760</td>\n",
       "      <td>0.3001</td>\n",
       "      <td>0.14710</td>\n",
       "      <td>...</td>\n",
       "      <td>25.38</td>\n",
       "      <td>17.33</td>\n",
       "      <td>184.60</td>\n",
       "      <td>2019.0</td>\n",
       "      <td>0.1622</td>\n",
       "      <td>0.6656</td>\n",
       "      <td>0.7119</td>\n",
       "      <td>0.2654</td>\n",
       "      <td>0.4601</td>\n",
       "      <td>0.11890</td>\n",
       "    </tr>\n",
       "    <tr>\n",
       "      <th>1</th>\n",
       "      <td>842517</td>\n",
       "      <td>M</td>\n",
       "      <td>20.57</td>\n",
       "      <td>17.77</td>\n",
       "      <td>132.90</td>\n",
       "      <td>1326.0</td>\n",
       "      <td>0.08474</td>\n",
       "      <td>0.07864</td>\n",
       "      <td>0.0869</td>\n",
       "      <td>0.07017</td>\n",
       "      <td>...</td>\n",
       "      <td>24.99</td>\n",
       "      <td>23.41</td>\n",
       "      <td>158.80</td>\n",
       "      <td>1956.0</td>\n",
       "      <td>0.1238</td>\n",
       "      <td>0.1866</td>\n",
       "      <td>0.2416</td>\n",
       "      <td>0.1860</td>\n",
       "      <td>0.2750</td>\n",
       "      <td>0.08902</td>\n",
       "    </tr>\n",
       "    <tr>\n",
       "      <th>2</th>\n",
       "      <td>84300903</td>\n",
       "      <td>M</td>\n",
       "      <td>19.69</td>\n",
       "      <td>21.25</td>\n",
       "      <td>130.00</td>\n",
       "      <td>1203.0</td>\n",
       "      <td>0.10960</td>\n",
       "      <td>0.15990</td>\n",
       "      <td>0.1974</td>\n",
       "      <td>0.12790</td>\n",
       "      <td>...</td>\n",
       "      <td>23.57</td>\n",
       "      <td>25.53</td>\n",
       "      <td>152.50</td>\n",
       "      <td>1709.0</td>\n",
       "      <td>0.1444</td>\n",
       "      <td>0.4245</td>\n",
       "      <td>0.4504</td>\n",
       "      <td>0.2430</td>\n",
       "      <td>0.3613</td>\n",
       "      <td>0.08758</td>\n",
       "    </tr>\n",
       "    <tr>\n",
       "      <th>3</th>\n",
       "      <td>84348301</td>\n",
       "      <td>M</td>\n",
       "      <td>11.42</td>\n",
       "      <td>20.38</td>\n",
       "      <td>77.58</td>\n",
       "      <td>386.1</td>\n",
       "      <td>0.14250</td>\n",
       "      <td>0.28390</td>\n",
       "      <td>0.2414</td>\n",
       "      <td>0.10520</td>\n",
       "      <td>...</td>\n",
       "      <td>14.91</td>\n",
       "      <td>26.50</td>\n",
       "      <td>98.87</td>\n",
       "      <td>567.7</td>\n",
       "      <td>0.2098</td>\n",
       "      <td>0.8663</td>\n",
       "      <td>0.6869</td>\n",
       "      <td>0.2575</td>\n",
       "      <td>0.6638</td>\n",
       "      <td>0.17300</td>\n",
       "    </tr>\n",
       "    <tr>\n",
       "      <th>4</th>\n",
       "      <td>84358402</td>\n",
       "      <td>M</td>\n",
       "      <td>20.29</td>\n",
       "      <td>14.34</td>\n",
       "      <td>135.10</td>\n",
       "      <td>1297.0</td>\n",
       "      <td>0.10030</td>\n",
       "      <td>0.13280</td>\n",
       "      <td>0.1980</td>\n",
       "      <td>0.10430</td>\n",
       "      <td>...</td>\n",
       "      <td>22.54</td>\n",
       "      <td>16.67</td>\n",
       "      <td>152.20</td>\n",
       "      <td>1575.0</td>\n",
       "      <td>0.1374</td>\n",
       "      <td>0.2050</td>\n",
       "      <td>0.4000</td>\n",
       "      <td>0.1625</td>\n",
       "      <td>0.2364</td>\n",
       "      <td>0.07678</td>\n",
       "    </tr>\n",
       "  </tbody>\n",
       "</table>\n",
       "<p>5 rows × 32 columns</p>\n",
       "</div>"
      ],
      "text/plain": [
       "        %id diagnosis (M=malignant; B=benign)  radius (nucA)  texture (nucA)  \\\n",
       "0    842302                                 M          17.99           10.38   \n",
       "1    842517                                 M          20.57           17.77   \n",
       "2  84300903                                 M          19.69           21.25   \n",
       "3  84348301                                 M          11.42           20.38   \n",
       "4  84358402                                 M          20.29           14.34   \n",
       "\n",
       "   perimeter (nucA)  area (nucA)  smoothness (nucA)  compactness (nucA)  \\\n",
       "0            122.80       1001.0            0.11840             0.27760   \n",
       "1            132.90       1326.0            0.08474             0.07864   \n",
       "2            130.00       1203.0            0.10960             0.15990   \n",
       "3             77.58        386.1            0.14250             0.28390   \n",
       "4            135.10       1297.0            0.10030             0.13280   \n",
       "\n",
       "   concavity (nucA)  concave points (nucA)  ...  radius (nucC)  \\\n",
       "0            0.3001                0.14710  ...          25.38   \n",
       "1            0.0869                0.07017  ...          24.99   \n",
       "2            0.1974                0.12790  ...          23.57   \n",
       "3            0.2414                0.10520  ...          14.91   \n",
       "4            0.1980                0.10430  ...          22.54   \n",
       "\n",
       "   texture (nucC)  perimeter (nucC)  area (nucC)  smoothness (nucC)  \\\n",
       "0           17.33            184.60       2019.0             0.1622   \n",
       "1           23.41            158.80       1956.0             0.1238   \n",
       "2           25.53            152.50       1709.0             0.1444   \n",
       "3           26.50             98.87        567.7             0.2098   \n",
       "4           16.67            152.20       1575.0             0.1374   \n",
       "\n",
       "   compactness (nucC)  concavity (nucC)  concave points (nucC)  \\\n",
       "0              0.6656            0.7119                 0.2654   \n",
       "1              0.1866            0.2416                 0.1860   \n",
       "2              0.4245            0.4504                 0.2430   \n",
       "3              0.8663            0.6869                 0.2575   \n",
       "4              0.2050            0.4000                 0.1625   \n",
       "\n",
       "   symmetry (nucC)  fractal dimension (nucC)  \n",
       "0           0.4601                   0.11890  \n",
       "1           0.2750                   0.08902  \n",
       "2           0.3613                   0.08758  \n",
       "3           0.6638                   0.17300  \n",
       "4           0.2364                   0.07678  \n",
       "\n",
       "[5 rows x 32 columns]"
      ]
     },
     "execution_count": 2,
     "metadata": {},
     "output_type": "execute_result"
    }
   ],
   "source": [
    "import pandas as pd \n",
    "import numpy as np         # linear algebra\n",
    "\n",
    "wdbc_data = pd.read_csv('breast-cancer-wisconsin_wdbc.csv',sep=',')\n",
    "wdbc_data.head()"
   ]
  },
  {
   "cell_type": "code",
   "execution_count": 6,
   "metadata": {},
   "outputs": [],
   "source": [
    "wdbc_data.drop('%id', axis = 1 , inplace= True)"
   ]
  },
  {
   "cell_type": "code",
   "execution_count": 25,
   "metadata": {},
   "outputs": [],
   "source": [
    "wdbc_data.rename(columns= {'diagnosis (M=malignant; B=benign)' : 'diagnosis'} ,inplace=True)"
   ]
  },
  {
   "cell_type": "code",
   "execution_count": 26,
   "metadata": {},
   "outputs": [
    {
     "data": {
      "text/plain": [
       "Index(['diagnosis', 'radius (nucA)', 'texture (nucA)', 'perimeter (nucA)',\n",
       "       'area (nucA)', 'smoothness (nucA)', 'compactness (nucA)',\n",
       "       'concavity (nucA)', 'concave points (nucA)', 'symmetry (nucA)',\n",
       "       'fractal dimension (nucA)', 'radius (nucB)', 'texture (nucB)',\n",
       "       'perimeter (nucB)', 'area (nucB)', 'smoothness (nucB)',\n",
       "       'compactness (nucB)', 'concavity (nucB)', 'concave points (nucB)',\n",
       "       'symmetry (nucB)', 'fractal dimension (nucB)', 'radius (nucC)',\n",
       "       'texture (nucC)', 'perimeter (nucC)', 'area (nucC)',\n",
       "       'smoothness (nucC)', 'compactness (nucC)', 'concavity (nucC)',\n",
       "       'concave points (nucC)', 'symmetry (nucC)', 'fractal dimension (nucC)'],\n",
       "      dtype='object')"
      ]
     },
     "execution_count": 26,
     "metadata": {},
     "output_type": "execute_result"
    }
   ],
   "source": [
    "wdbc_data.columns"
   ]
  },
  {
   "cell_type": "code",
   "execution_count": 27,
   "metadata": {},
   "outputs": [
    {
     "data": {
      "text/plain": [
       "(569, 31)"
      ]
     },
     "execution_count": 27,
     "metadata": {},
     "output_type": "execute_result"
    }
   ],
   "source": [
    "wdbc_data.shape"
   ]
  },
  {
   "cell_type": "code",
   "execution_count": 28,
   "metadata": {},
   "outputs": [
    {
     "data": {
      "text/plain": [
       "object      1\n",
       "float64    30\n",
       "dtype: int64"
      ]
     },
     "execution_count": 28,
     "metadata": {},
     "output_type": "execute_result"
    }
   ],
   "source": [
    "wdbc_data.get_dtype_counts()"
   ]
  },
  {
   "cell_type": "code",
   "execution_count": 29,
   "metadata": {},
   "outputs": [
    {
     "data": {
      "text/plain": [
       "diagnosis                   False\n",
       "radius (nucA)               False\n",
       "texture (nucA)              False\n",
       "perimeter (nucA)            False\n",
       "area (nucA)                 False\n",
       "smoothness (nucA)           False\n",
       "compactness (nucA)          False\n",
       "concavity (nucA)            False\n",
       "concave points (nucA)       False\n",
       "symmetry (nucA)             False\n",
       "fractal dimension (nucA)    False\n",
       "radius (nucB)               False\n",
       "texture (nucB)              False\n",
       "perimeter (nucB)            False\n",
       "area (nucB)                 False\n",
       "smoothness (nucB)           False\n",
       "compactness (nucB)          False\n",
       "concavity (nucB)            False\n",
       "concave points (nucB)       False\n",
       "symmetry (nucB)             False\n",
       "fractal dimension (nucB)    False\n",
       "radius (nucC)               False\n",
       "texture (nucC)              False\n",
       "perimeter (nucC)            False\n",
       "area (nucC)                 False\n",
       "smoothness (nucC)           False\n",
       "compactness (nucC)          False\n",
       "concavity (nucC)            False\n",
       "concave points (nucC)       False\n",
       "symmetry (nucC)             False\n",
       "fractal dimension (nucC)    False\n",
       "dtype: bool"
      ]
     },
     "execution_count": 29,
     "metadata": {},
     "output_type": "execute_result"
    }
   ],
   "source": [
    "wdbc_data.isnull().any()"
   ]
  },
  {
   "cell_type": "code",
   "execution_count": 31,
   "metadata": {},
   "outputs": [
    {
     "data": {
      "text/plain": [
       "array(['M', 'B'], dtype=object)"
      ]
     },
     "execution_count": 31,
     "metadata": {},
     "output_type": "execute_result"
    }
   ],
   "source": [
    "wdbc_data.diagnosis.unique()"
   ]
  },
  {
   "cell_type": "code",
   "execution_count": 32,
   "metadata": {},
   "outputs": [],
   "source": [
    "wdbc_data.to_csv('clean-data.csv')\n"
   ]
  },
  {
   "cell_type": "markdown",
   "metadata": {},
   "source": [
    "Exploratory Data Analysis\n",
    "Descriptive statistics is the process of condensing key characteristics of the data set into simple numeric metrics. Some of the common metrics used are mean, standard deviation, and correlation.\n",
    "\n",
    "Visualization is the process of projecting the data, or parts of it, into Cartesian space or into abstract images. In the data mining process, data exploration is leveraged in many different steps including preprocessing, modeling, and interpretation of results."
   ]
  },
  {
   "cell_type": "markdown",
   "metadata": {},
   "source": [
    "# 2.2 Descriptive statistics¶\n"
   ]
  },
  {
   "cell_type": "code",
   "execution_count": 34,
   "metadata": {},
   "outputs": [],
   "source": [
    "%matplotlib inline\n",
    "import matplotlib.pyplot as plt\n",
    "\n",
    "#Load libraries for data processing\n",
    "import numpy as np\n",
    "from scipy.stats import norm\n",
    "import seaborn as sns # visualization\n",
    "\n",
    "\n",
    "plt.rcParams['figure.figsize'] = (15,8) \n",
    "plt.rcParams['axes.titlesize'] = 'large'"
   ]
  },
  {
   "cell_type": "code",
   "execution_count": 36,
   "metadata": {},
   "outputs": [
    {
     "data": {
      "text/html": [
       "<div>\n",
       "<style scoped>\n",
       "    .dataframe tbody tr th:only-of-type {\n",
       "        vertical-align: middle;\n",
       "    }\n",
       "\n",
       "    .dataframe tbody tr th {\n",
       "        vertical-align: top;\n",
       "    }\n",
       "\n",
       "    .dataframe thead th {\n",
       "        text-align: right;\n",
       "    }\n",
       "</style>\n",
       "<table border=\"1\" class=\"dataframe\">\n",
       "  <thead>\n",
       "    <tr style=\"text-align: right;\">\n",
       "      <th></th>\n",
       "      <th>diagnosis</th>\n",
       "      <th>radius (nucA)</th>\n",
       "      <th>texture (nucA)</th>\n",
       "      <th>perimeter (nucA)</th>\n",
       "      <th>area (nucA)</th>\n",
       "      <th>smoothness (nucA)</th>\n",
       "      <th>compactness (nucA)</th>\n",
       "      <th>concavity (nucA)</th>\n",
       "      <th>concave points (nucA)</th>\n",
       "      <th>symmetry (nucA)</th>\n",
       "      <th>...</th>\n",
       "      <th>radius (nucC)</th>\n",
       "      <th>texture (nucC)</th>\n",
       "      <th>perimeter (nucC)</th>\n",
       "      <th>area (nucC)</th>\n",
       "      <th>smoothness (nucC)</th>\n",
       "      <th>compactness (nucC)</th>\n",
       "      <th>concavity (nucC)</th>\n",
       "      <th>concave points (nucC)</th>\n",
       "      <th>symmetry (nucC)</th>\n",
       "      <th>fractal dimension (nucC)</th>\n",
       "    </tr>\n",
       "  </thead>\n",
       "  <tbody>\n",
       "    <tr>\n",
       "      <th>0</th>\n",
       "      <td>M</td>\n",
       "      <td>17.99</td>\n",
       "      <td>10.38</td>\n",
       "      <td>122.8</td>\n",
       "      <td>1001.0</td>\n",
       "      <td>0.11840</td>\n",
       "      <td>0.27760</td>\n",
       "      <td>0.3001</td>\n",
       "      <td>0.14710</td>\n",
       "      <td>0.2419</td>\n",
       "      <td>...</td>\n",
       "      <td>25.38</td>\n",
       "      <td>17.33</td>\n",
       "      <td>184.6</td>\n",
       "      <td>2019.0</td>\n",
       "      <td>0.1622</td>\n",
       "      <td>0.6656</td>\n",
       "      <td>0.7119</td>\n",
       "      <td>0.2654</td>\n",
       "      <td>0.4601</td>\n",
       "      <td>0.11890</td>\n",
       "    </tr>\n",
       "    <tr>\n",
       "      <th>1</th>\n",
       "      <td>M</td>\n",
       "      <td>20.57</td>\n",
       "      <td>17.77</td>\n",
       "      <td>132.9</td>\n",
       "      <td>1326.0</td>\n",
       "      <td>0.08474</td>\n",
       "      <td>0.07864</td>\n",
       "      <td>0.0869</td>\n",
       "      <td>0.07017</td>\n",
       "      <td>0.1812</td>\n",
       "      <td>...</td>\n",
       "      <td>24.99</td>\n",
       "      <td>23.41</td>\n",
       "      <td>158.8</td>\n",
       "      <td>1956.0</td>\n",
       "      <td>0.1238</td>\n",
       "      <td>0.1866</td>\n",
       "      <td>0.2416</td>\n",
       "      <td>0.1860</td>\n",
       "      <td>0.2750</td>\n",
       "      <td>0.08902</td>\n",
       "    </tr>\n",
       "  </tbody>\n",
       "</table>\n",
       "<p>2 rows × 31 columns</p>\n",
       "</div>"
      ],
      "text/plain": [
       "  diagnosis  radius (nucA)  texture (nucA)  perimeter (nucA)  area (nucA)  \\\n",
       "0         M          17.99           10.38             122.8       1001.0   \n",
       "1         M          20.57           17.77             132.9       1326.0   \n",
       "\n",
       "   smoothness (nucA)  compactness (nucA)  concavity (nucA)  \\\n",
       "0            0.11840             0.27760            0.3001   \n",
       "1            0.08474             0.07864            0.0869   \n",
       "\n",
       "   concave points (nucA)  symmetry (nucA)  ...  radius (nucC)  texture (nucC)  \\\n",
       "0                0.14710           0.2419  ...          25.38           17.33   \n",
       "1                0.07017           0.1812  ...          24.99           23.41   \n",
       "\n",
       "   perimeter (nucC)  area (nucC)  smoothness (nucC)  compactness (nucC)  \\\n",
       "0             184.6       2019.0             0.1622              0.6656   \n",
       "1             158.8       1956.0             0.1238              0.1866   \n",
       "\n",
       "   concavity (nucC)  concave points (nucC)  symmetry (nucC)  \\\n",
       "0            0.7119                 0.2654           0.4601   \n",
       "1            0.2416                 0.1860           0.2750   \n",
       "\n",
       "   fractal dimension (nucC)  \n",
       "0                   0.11890  \n",
       "1                   0.08902  \n",
       "\n",
       "[2 rows x 31 columns]"
      ]
     },
     "execution_count": 36,
     "metadata": {},
     "output_type": "execute_result"
    }
   ],
   "source": [
    "data = pd.read_csv('clean-data.csv', index_col=False)\n",
    "data.drop('Unnamed: 0',axis=1, inplace=True)\n",
    "data.head(2)"
   ]
  },
  {
   "cell_type": "code",
   "execution_count": 37,
   "metadata": {},
   "outputs": [
    {
     "data": {
      "text/html": [
       "<div>\n",
       "<style scoped>\n",
       "    .dataframe tbody tr th:only-of-type {\n",
       "        vertical-align: middle;\n",
       "    }\n",
       "\n",
       "    .dataframe tbody tr th {\n",
       "        vertical-align: top;\n",
       "    }\n",
       "\n",
       "    .dataframe thead th {\n",
       "        text-align: right;\n",
       "    }\n",
       "</style>\n",
       "<table border=\"1\" class=\"dataframe\">\n",
       "  <thead>\n",
       "    <tr style=\"text-align: right;\">\n",
       "      <th></th>\n",
       "      <th>radius (nucA)</th>\n",
       "      <th>texture (nucA)</th>\n",
       "      <th>perimeter (nucA)</th>\n",
       "      <th>area (nucA)</th>\n",
       "      <th>smoothness (nucA)</th>\n",
       "      <th>compactness (nucA)</th>\n",
       "      <th>concavity (nucA)</th>\n",
       "      <th>concave points (nucA)</th>\n",
       "      <th>symmetry (nucA)</th>\n",
       "      <th>fractal dimension (nucA)</th>\n",
       "      <th>...</th>\n",
       "      <th>radius (nucC)</th>\n",
       "      <th>texture (nucC)</th>\n",
       "      <th>perimeter (nucC)</th>\n",
       "      <th>area (nucC)</th>\n",
       "      <th>smoothness (nucC)</th>\n",
       "      <th>compactness (nucC)</th>\n",
       "      <th>concavity (nucC)</th>\n",
       "      <th>concave points (nucC)</th>\n",
       "      <th>symmetry (nucC)</th>\n",
       "      <th>fractal dimension (nucC)</th>\n",
       "    </tr>\n",
       "  </thead>\n",
       "  <tbody>\n",
       "    <tr>\n",
       "      <th>count</th>\n",
       "      <td>569.000000</td>\n",
       "      <td>569.000000</td>\n",
       "      <td>569.000000</td>\n",
       "      <td>569.000000</td>\n",
       "      <td>569.000000</td>\n",
       "      <td>569.000000</td>\n",
       "      <td>569.000000</td>\n",
       "      <td>569.000000</td>\n",
       "      <td>569.000000</td>\n",
       "      <td>569.000000</td>\n",
       "      <td>...</td>\n",
       "      <td>569.000000</td>\n",
       "      <td>569.000000</td>\n",
       "      <td>569.000000</td>\n",
       "      <td>569.000000</td>\n",
       "      <td>569.000000</td>\n",
       "      <td>569.000000</td>\n",
       "      <td>569.000000</td>\n",
       "      <td>569.000000</td>\n",
       "      <td>569.000000</td>\n",
       "      <td>569.000000</td>\n",
       "    </tr>\n",
       "    <tr>\n",
       "      <th>mean</th>\n",
       "      <td>14.127292</td>\n",
       "      <td>19.289649</td>\n",
       "      <td>91.969033</td>\n",
       "      <td>654.889104</td>\n",
       "      <td>0.096360</td>\n",
       "      <td>0.104341</td>\n",
       "      <td>0.088799</td>\n",
       "      <td>0.048919</td>\n",
       "      <td>0.181162</td>\n",
       "      <td>0.062798</td>\n",
       "      <td>...</td>\n",
       "      <td>16.269190</td>\n",
       "      <td>25.677223</td>\n",
       "      <td>107.261213</td>\n",
       "      <td>880.583128</td>\n",
       "      <td>0.132369</td>\n",
       "      <td>0.254265</td>\n",
       "      <td>0.272188</td>\n",
       "      <td>0.114606</td>\n",
       "      <td>0.290076</td>\n",
       "      <td>0.083946</td>\n",
       "    </tr>\n",
       "    <tr>\n",
       "      <th>std</th>\n",
       "      <td>3.524049</td>\n",
       "      <td>4.301036</td>\n",
       "      <td>24.298981</td>\n",
       "      <td>351.914129</td>\n",
       "      <td>0.014064</td>\n",
       "      <td>0.052813</td>\n",
       "      <td>0.079720</td>\n",
       "      <td>0.038803</td>\n",
       "      <td>0.027414</td>\n",
       "      <td>0.007060</td>\n",
       "      <td>...</td>\n",
       "      <td>4.833242</td>\n",
       "      <td>6.146258</td>\n",
       "      <td>33.602542</td>\n",
       "      <td>569.356993</td>\n",
       "      <td>0.022832</td>\n",
       "      <td>0.157336</td>\n",
       "      <td>0.208624</td>\n",
       "      <td>0.065732</td>\n",
       "      <td>0.061867</td>\n",
       "      <td>0.018061</td>\n",
       "    </tr>\n",
       "    <tr>\n",
       "      <th>min</th>\n",
       "      <td>6.981000</td>\n",
       "      <td>9.710000</td>\n",
       "      <td>43.790000</td>\n",
       "      <td>143.500000</td>\n",
       "      <td>0.052630</td>\n",
       "      <td>0.019380</td>\n",
       "      <td>0.000000</td>\n",
       "      <td>0.000000</td>\n",
       "      <td>0.106000</td>\n",
       "      <td>0.049960</td>\n",
       "      <td>...</td>\n",
       "      <td>7.930000</td>\n",
       "      <td>12.020000</td>\n",
       "      <td>50.410000</td>\n",
       "      <td>185.200000</td>\n",
       "      <td>0.071170</td>\n",
       "      <td>0.027290</td>\n",
       "      <td>0.000000</td>\n",
       "      <td>0.000000</td>\n",
       "      <td>0.156500</td>\n",
       "      <td>0.055040</td>\n",
       "    </tr>\n",
       "    <tr>\n",
       "      <th>25%</th>\n",
       "      <td>11.700000</td>\n",
       "      <td>16.170000</td>\n",
       "      <td>75.170000</td>\n",
       "      <td>420.300000</td>\n",
       "      <td>0.086370</td>\n",
       "      <td>0.064920</td>\n",
       "      <td>0.029560</td>\n",
       "      <td>0.020310</td>\n",
       "      <td>0.161900</td>\n",
       "      <td>0.057700</td>\n",
       "      <td>...</td>\n",
       "      <td>13.010000</td>\n",
       "      <td>21.080000</td>\n",
       "      <td>84.110000</td>\n",
       "      <td>515.300000</td>\n",
       "      <td>0.116600</td>\n",
       "      <td>0.147200</td>\n",
       "      <td>0.114500</td>\n",
       "      <td>0.064930</td>\n",
       "      <td>0.250400</td>\n",
       "      <td>0.071460</td>\n",
       "    </tr>\n",
       "    <tr>\n",
       "      <th>50%</th>\n",
       "      <td>13.370000</td>\n",
       "      <td>18.840000</td>\n",
       "      <td>86.240000</td>\n",
       "      <td>551.100000</td>\n",
       "      <td>0.095870</td>\n",
       "      <td>0.092630</td>\n",
       "      <td>0.061540</td>\n",
       "      <td>0.033500</td>\n",
       "      <td>0.179200</td>\n",
       "      <td>0.061540</td>\n",
       "      <td>...</td>\n",
       "      <td>14.970000</td>\n",
       "      <td>25.410000</td>\n",
       "      <td>97.660000</td>\n",
       "      <td>686.500000</td>\n",
       "      <td>0.131300</td>\n",
       "      <td>0.211900</td>\n",
       "      <td>0.226700</td>\n",
       "      <td>0.099930</td>\n",
       "      <td>0.282200</td>\n",
       "      <td>0.080040</td>\n",
       "    </tr>\n",
       "    <tr>\n",
       "      <th>75%</th>\n",
       "      <td>15.780000</td>\n",
       "      <td>21.800000</td>\n",
       "      <td>104.100000</td>\n",
       "      <td>782.700000</td>\n",
       "      <td>0.105300</td>\n",
       "      <td>0.130400</td>\n",
       "      <td>0.130700</td>\n",
       "      <td>0.074000</td>\n",
       "      <td>0.195700</td>\n",
       "      <td>0.066120</td>\n",
       "      <td>...</td>\n",
       "      <td>18.790000</td>\n",
       "      <td>29.720000</td>\n",
       "      <td>125.400000</td>\n",
       "      <td>1084.000000</td>\n",
       "      <td>0.146000</td>\n",
       "      <td>0.339100</td>\n",
       "      <td>0.382900</td>\n",
       "      <td>0.161400</td>\n",
       "      <td>0.317900</td>\n",
       "      <td>0.092080</td>\n",
       "    </tr>\n",
       "    <tr>\n",
       "      <th>max</th>\n",
       "      <td>28.110000</td>\n",
       "      <td>39.280000</td>\n",
       "      <td>188.500000</td>\n",
       "      <td>2501.000000</td>\n",
       "      <td>0.163400</td>\n",
       "      <td>0.345400</td>\n",
       "      <td>0.426800</td>\n",
       "      <td>0.201200</td>\n",
       "      <td>0.304000</td>\n",
       "      <td>0.097440</td>\n",
       "      <td>...</td>\n",
       "      <td>36.040000</td>\n",
       "      <td>49.540000</td>\n",
       "      <td>251.200000</td>\n",
       "      <td>4254.000000</td>\n",
       "      <td>0.222600</td>\n",
       "      <td>1.058000</td>\n",
       "      <td>1.252000</td>\n",
       "      <td>0.291000</td>\n",
       "      <td>0.663800</td>\n",
       "      <td>0.207500</td>\n",
       "    </tr>\n",
       "  </tbody>\n",
       "</table>\n",
       "<p>8 rows × 30 columns</p>\n",
       "</div>"
      ],
      "text/plain": [
       "       radius (nucA)  texture (nucA)  perimeter (nucA)  area (nucA)  \\\n",
       "count     569.000000      569.000000        569.000000   569.000000   \n",
       "mean       14.127292       19.289649         91.969033   654.889104   \n",
       "std         3.524049        4.301036         24.298981   351.914129   \n",
       "min         6.981000        9.710000         43.790000   143.500000   \n",
       "25%        11.700000       16.170000         75.170000   420.300000   \n",
       "50%        13.370000       18.840000         86.240000   551.100000   \n",
       "75%        15.780000       21.800000        104.100000   782.700000   \n",
       "max        28.110000       39.280000        188.500000  2501.000000   \n",
       "\n",
       "       smoothness (nucA)  compactness (nucA)  concavity (nucA)  \\\n",
       "count         569.000000          569.000000        569.000000   \n",
       "mean            0.096360            0.104341          0.088799   \n",
       "std             0.014064            0.052813          0.079720   \n",
       "min             0.052630            0.019380          0.000000   \n",
       "25%             0.086370            0.064920          0.029560   \n",
       "50%             0.095870            0.092630          0.061540   \n",
       "75%             0.105300            0.130400          0.130700   \n",
       "max             0.163400            0.345400          0.426800   \n",
       "\n",
       "       concave points (nucA)  symmetry (nucA)  fractal dimension (nucA)  ...  \\\n",
       "count             569.000000       569.000000                569.000000  ...   \n",
       "mean                0.048919         0.181162                  0.062798  ...   \n",
       "std                 0.038803         0.027414                  0.007060  ...   \n",
       "min                 0.000000         0.106000                  0.049960  ...   \n",
       "25%                 0.020310         0.161900                  0.057700  ...   \n",
       "50%                 0.033500         0.179200                  0.061540  ...   \n",
       "75%                 0.074000         0.195700                  0.066120  ...   \n",
       "max                 0.201200         0.304000                  0.097440  ...   \n",
       "\n",
       "       radius (nucC)  texture (nucC)  perimeter (nucC)  area (nucC)  \\\n",
       "count     569.000000      569.000000        569.000000   569.000000   \n",
       "mean       16.269190       25.677223        107.261213   880.583128   \n",
       "std         4.833242        6.146258         33.602542   569.356993   \n",
       "min         7.930000       12.020000         50.410000   185.200000   \n",
       "25%        13.010000       21.080000         84.110000   515.300000   \n",
       "50%        14.970000       25.410000         97.660000   686.500000   \n",
       "75%        18.790000       29.720000        125.400000  1084.000000   \n",
       "max        36.040000       49.540000        251.200000  4254.000000   \n",
       "\n",
       "       smoothness (nucC)  compactness (nucC)  concavity (nucC)  \\\n",
       "count         569.000000          569.000000        569.000000   \n",
       "mean            0.132369            0.254265          0.272188   \n",
       "std             0.022832            0.157336          0.208624   \n",
       "min             0.071170            0.027290          0.000000   \n",
       "25%             0.116600            0.147200          0.114500   \n",
       "50%             0.131300            0.211900          0.226700   \n",
       "75%             0.146000            0.339100          0.382900   \n",
       "max             0.222600            1.058000          1.252000   \n",
       "\n",
       "       concave points (nucC)  symmetry (nucC)  fractal dimension (nucC)  \n",
       "count             569.000000       569.000000                569.000000  \n",
       "mean                0.114606         0.290076                  0.083946  \n",
       "std                 0.065732         0.061867                  0.018061  \n",
       "min                 0.000000         0.156500                  0.055040  \n",
       "25%                 0.064930         0.250400                  0.071460  \n",
       "50%                 0.099930         0.282200                  0.080040  \n",
       "75%                 0.161400         0.317900                  0.092080  \n",
       "max                 0.291000         0.663800                  0.207500  \n",
       "\n",
       "[8 rows x 30 columns]"
      ]
     },
     "execution_count": 37,
     "metadata": {},
     "output_type": "execute_result"
    }
   ],
   "source": [
    "#basic descriptive statistics\n",
    "data.describe()"
   ]
  },
  {
   "cell_type": "code",
   "execution_count": 39,
   "metadata": {},
   "outputs": [
    {
     "data": {
      "text/plain": [
       "radius (nucA)               0.942380\n",
       "texture (nucA)              0.650450\n",
       "perimeter (nucA)            0.990650\n",
       "area (nucA)                 1.645732\n",
       "smoothness (nucA)           0.456324\n",
       "compactness (nucA)          1.190123\n",
       "concavity (nucA)            1.401180\n",
       "concave points (nucA)       1.171180\n",
       "symmetry (nucA)             0.725609\n",
       "fractal dimension (nucA)    1.304489\n",
       "radius (nucB)               3.088612\n",
       "texture (nucB)              1.646444\n",
       "perimeter (nucB)            3.443615\n",
       "area (nucB)                 5.447186\n",
       "smoothness (nucB)           2.314450\n",
       "compactness (nucB)          1.902221\n",
       "concavity (nucB)            5.110463\n",
       "concave points (nucB)       1.444678\n",
       "symmetry (nucB)             2.195133\n",
       "fractal dimension (nucB)    3.923969\n",
       "radius (nucC)               1.103115\n",
       "texture (nucC)              0.498321\n",
       "perimeter (nucC)            1.128164\n",
       "area (nucC)                 1.859373\n",
       "smoothness (nucC)           0.415426\n",
       "compactness (nucC)          1.473555\n",
       "concavity (nucC)            1.150237\n",
       "concave points (nucC)       0.492616\n",
       "symmetry (nucC)             1.433928\n",
       "fractal dimension (nucC)    1.662579\n",
       "dtype: float64"
      ]
     },
     "execution_count": 39,
     "metadata": {},
     "output_type": "execute_result"
    }
   ],
   "source": [
    "data.skew()"
   ]
  },
  {
   "cell_type": "markdown",
   "metadata": {},
   "source": [
    "The skew result show a positive (right) or negative (left) skew. Values closer to zero show less skew. From the graphs, we can see that radius_mean, perimeter_mean, area_mean, concavity_mean and concave_points_mean are useful in predicting cancer type due to the distinct grouping between malignant and benign cancer types in these features. We can also see that area_worst and perimeter_worst are also quite useful.\n",
    "\n"
   ]
  },
  {
   "cell_type": "code",
   "execution_count": 44,
   "metadata": {},
   "outputs": [
    {
     "data": {
      "text/html": [
       "<div>\n",
       "<style scoped>\n",
       "    .dataframe tbody tr th:only-of-type {\n",
       "        vertical-align: middle;\n",
       "    }\n",
       "\n",
       "    .dataframe tbody tr th {\n",
       "        vertical-align: top;\n",
       "    }\n",
       "\n",
       "    .dataframe thead th {\n",
       "        text-align: right;\n",
       "    }\n",
       "</style>\n",
       "<table border=\"1\" class=\"dataframe\">\n",
       "  <thead>\n",
       "    <tr style=\"text-align: right;\">\n",
       "      <th></th>\n",
       "      <th># of observations</th>\n",
       "    </tr>\n",
       "    <tr>\n",
       "      <th>diagnosis</th>\n",
       "      <th></th>\n",
       "    </tr>\n",
       "  </thead>\n",
       "  <tbody>\n",
       "    <tr>\n",
       "      <th>B</th>\n",
       "      <td>357</td>\n",
       "    </tr>\n",
       "    <tr>\n",
       "      <th>M</th>\n",
       "      <td>212</td>\n",
       "    </tr>\n",
       "  </tbody>\n",
       "</table>\n",
       "</div>"
      ],
      "text/plain": [
       "           # of observations\n",
       "diagnosis                   \n",
       "B                        357\n",
       "M                        212"
      ]
     },
     "execution_count": 44,
     "metadata": {},
     "output_type": "execute_result"
    }
   ],
   "source": [
    "# Group by diagnosis and review the output.\n",
    "diag_gr = data.groupby('diagnosis', axis=0)\n",
    "pd.DataFrame(diag_gr.size(), columns=['# of observations'])"
   ]
  },
  {
   "cell_type": "code",
   "execution_count": 45,
   "metadata": {},
   "outputs": [
    {
     "data": {
      "text/plain": [
       "diagnosis\n",
       "B    357\n",
       "M    212\n",
       "dtype: int64"
      ]
     },
     "execution_count": 45,
     "metadata": {},
     "output_type": "execute_result"
    }
   ],
   "source": [
    "diag_gr.size()"
   ]
  },
  {
   "cell_type": "markdown",
   "metadata": {},
   "source": [
    "Check binary encoding from NB1 to confirm the coversion of the diagnosis categorical data into numeric, where\n",
    "\n",
    "Malignant = 1 (indicates prescence of cancer cells)\n",
    "Benign = 0 (indicates abscence)\n",
    "Observation\n",
    "357 observations indicating the absence of cancer cells and 212 show absence of cancer cell\n",
    "\n"
   ]
  },
  {
   "cell_type": "markdown",
   "metadata": {},
   "source": [
    "# Unimodal Data Visualizations"
   ]
  },
  {
   "cell_type": "markdown",
   "metadata": {},
   "source": [
    "\n",
    "One of the main goals of visualizing the data here is to observe which features are most helpful in predicting malignant or benign cancer. The other is to see general trends that may aid us in model selection and hyper parameter selection.\n",
    "\n",
    "Apply 3 techniques that you can use to understand each attribute of your dataset independently.\n",
    "\n",
    "Histograms.\n",
    "Density Plots.\n",
    "Box and Whisker Plots."
   ]
  },
  {
   "cell_type": "code",
   "execution_count": 49,
   "metadata": {},
   "outputs": [
    {
     "data": {
      "text/plain": [
       "<matplotlib.axes._subplots.AxesSubplot at 0x11ba092b0>"
      ]
     },
     "execution_count": 49,
     "metadata": {},
     "output_type": "execute_result"
    },
    {
     "data": {
      "image/png": "[encoded data removed]",
      "text/plain": [
       "<Figure size 720x576 with 1 Axes>"
      ]
     },
     "metadata": {},
     "output_type": "display_data"
    }
   ],
   "source": [
    "#lets get the frequency of cancer diagnosis\n",
    "sns.set_style(\"white\")\n",
    "sns.set_context({\"figure.figsize\": (10, 8)})\n",
    "sns.countplot(data['diagnosis'],label='Count',palette=\"Set3\")"
   ]
  },
  {
   "cell_type": "code",
   "execution_count": 60,
   "metadata": {},
   "outputs": [
    {
     "name": "stdout",
     "output_type": "stream",
     "text": [
      "Index(['id', 'diagnosis'], dtype='object') \n",
      "\n",
      "Index(['radius (nucA)', 'texture (nucA)', 'perimeter (nucA)', 'area (nucA)',\n",
      "       'smoothness (nucA)', 'compactness (nucA)', 'concavity (nucA)',\n",
      "       'concave points (nucA)', 'symmetry (nucA)', 'fractal dimension (nucA)'],\n",
      "      dtype='object') \n",
      "\n",
      "Index(['radius (nucB)', 'texture (nucB)', 'perimeter (nucB)', 'area (nucB)',\n",
      "       'smoothness (nucB)', 'compactness (nucB)', 'concavity (nucB)',\n",
      "       'concave points (nucB)', 'symmetry (nucB)', 'fractal dimension (nucB)',\n",
      "       'radius (nucC)'],\n",
      "      dtype='object') \n",
      "\n",
      "Index(['perimeter (nucC)', 'area (nucC)', 'smoothness (nucC)',\n",
      "       'compactness (nucC)', 'concavity (nucC)', 'concave points (nucC)',\n",
      "       'symmetry (nucC)', 'fractal dimension (nucC)'],\n",
      "      dtype='object') \n",
      "\n"
     ]
    },
    {
     "name": "stderr",
     "output_type": "stream",
     "text": [
      "/anaconda3/lib/python3.7/site-packages/ipykernel_launcher.py:9: DeprecationWarning: \n",
      ".ix is deprecated. Please use\n",
      ".loc for label based indexing or\n",
      ".iloc for positional indexing\n",
      "\n",
      "See the documentation here:\n",
      "http://pandas.pydata.org/pandas-docs/stable/indexing.html#ix-indexer-is-deprecated\n",
      "  if __name__ == '__main__':\n",
      "/anaconda3/lib/python3.7/site-packages/ipykernel_launcher.py:10: DeprecationWarning: \n",
      ".ix is deprecated. Please use\n",
      ".loc for label based indexing or\n",
      ".iloc for positional indexing\n",
      "\n",
      "See the documentation here:\n",
      "http://pandas.pydata.org/pandas-docs/stable/indexing.html#ix-indexer-is-deprecated\n",
      "  # Remove the CWD from sys.path while we load stuff.\n",
      "/anaconda3/lib/python3.7/site-packages/ipykernel_launcher.py:11: DeprecationWarning: \n",
      ".ix is deprecated. Please use\n",
      ".loc for label based indexing or\n",
      ".iloc for positional indexing\n",
      "\n",
      "See the documentation here:\n",
      "http://pandas.pydata.org/pandas-docs/stable/indexing.html#ix-indexer-is-deprecated\n",
      "  # This is added back by InteractiveShellApp.init_path()\n"
     ]
    }
   ],
   "source": [
    "#Break up columns into groups, according to their suffix designation \n",
    "#(_mean, _se,\n",
    "# and __worst) to perform visualisation plots off. \n",
    "#Join the 'ID' and 'Diagnosis' back on\n",
    "data_id_diag=data.loc[:,[\"id\",\"diagnosis\"]]\n",
    "data_diag=data.loc[:,[\"diagnosis\"]]\n",
    "\n",
    "#For a merge + slice:\n",
    "data_mean=data.ix[:,1:11]\n",
    "data_se=data.ix[:,11:22]\n",
    "data_worst=data.ix[:,23:]\n",
    "\n",
    "print(data_id_diag.columns,'\\n')\n",
    "print(data_mean.columns,'\\n')\n",
    "print(data_se.columns,'\\n')\n",
    "print(data_worst.columns,'\\n')"
   ]
  },
  {
   "cell_type": "code",
   "execution_count": 56,
   "metadata": {},
   "outputs": [
    {
     "data": {
      "image/png": "[encoded data removed]",
      "text/plain": [
       "<Figure size 1080x720 with 12 Axes>"
      ]
     },
     "metadata": {},
     "output_type": "display_data"
    }
   ],
   "source": [
    "#Plot histograms of CUT1 variables\n",
    "hist_mean=data_mean.hist(bins=10, figsize=(15, 10),grid=False,)\n",
    "\n",
    "#Any individual histograms, use this:\n",
    "#df_cut['radius_worst'].hist(bins=100)"
   ]
  },
  {
   "cell_type": "code",
   "execution_count": 66,
   "metadata": {},
   "outputs": [
    {
     "data": {
      "image/png": "[encoded data removed]",
      "text/plain": [
       "<Figure size 720x576 with 1 Axes>"
      ]
     },
     "metadata": {},
     "output_type": "display_data"
    }
   ],
   "source": [
    "#Any individual histograms, use this:\n",
    "df_cut = data_mean['radius (nucA)'].hist(bins=100)"
   ]
  },
  {
   "cell_type": "code",
   "execution_count": 67,
   "metadata": {},
   "outputs": [
    {
     "data": {
      "image/png": "[encoded data removed]",
      "text/plain": [
       "<Figure size 1080x720 with 12 Axes>"
      ]
     },
     "metadata": {},
     "output_type": "display_data"
    }
   ],
   "source": [
    "#Plot histograms of _se variables\n",
    "hist_se=data_se.hist(bins=10, figsize=(15, 10),grid=False,)"
   ]
  },
  {
   "cell_type": "raw",
   "metadata": {},
   "source": [
    "Observation\n",
    "We can see that perhaps the attributes concavity,and concavity_point may have an exponential distribution ( ). We can also see that perhaps the texture and smooth and symmetry attributes may have a Gaussian or nearly Gaussian distribution. This is interesting because many machine learning techniques assume a Gaussian univariate distribution on the input variables."
   ]
  },
  {
   "cell_type": "code",
   "execution_count": null,
   "metadata": {},
   "outputs": [],
   "source": []
  }
 ],
 "metadata": {
  "kernelspec": {
   "display_name": "Python 3",
   "language": "python",
   "name": "python3"
  },
  "language_info": {
   "codemirror_mode": {
    "name": "ipython",
    "version": 3
   },
   "file_extension": ".py",
   "mimetype": "text/x-python",
   "name": "python",
   "nbconvert_exporter": "python",
   "pygments_lexer": "ipython3",
   "version": "3.7.3"
  }
 },
 "nbformat": 4,
 "nbformat_minor": 2
}
